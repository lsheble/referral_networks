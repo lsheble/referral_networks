{
 "cells": [
  {
   "cell_type": "code",
   "execution_count": 145,
   "metadata": {},
   "outputs": [
    {
     "name": "stdout",
     "output_type": "stream",
     "text": [
      "Populating the interactive namespace from numpy and matplotlib\n"
     ]
    }
   ],
   "source": [
    "%matplotlib inline  \n",
    "%pylab inline\n",
    "\n",
    "pylab.rcParams['figure.figsize'] = (10, 6)\n",
    "\n",
    "import igraph\n",
    "import pandas as pd\n",
    "import csv\n",
    "pd.set_option('display.max_rows', 500)\n",
    "import itertools\n"
   ]
  },
  {
   "cell_type": "code",
   "execution_count": 73,
   "metadata": {},
   "outputs": [],
   "source": [
    "data = pd.read_table('/Users/mueric35/Desktop/Margolis_Center/physician-shared-patient-patterns-2014-days30.txt',header= None, sep=',')"
   ]
  },
  {
   "cell_type": "code",
   "execution_count": 74,
   "metadata": {},
   "outputs": [
    {
     "data": {
      "text/html": [
       "<div>\n",
       "<table border=\"1\" class=\"dataframe\">\n",
       "  <thead>\n",
       "    <tr style=\"text-align: right;\">\n",
       "      <th></th>\n",
       "      <th>0</th>\n",
       "      <th>1</th>\n",
       "      <th>2</th>\n",
       "      <th>3</th>\n",
       "      <th>4</th>\n",
       "    </tr>\n",
       "  </thead>\n",
       "  <tbody>\n",
       "    <tr>\n",
       "      <th>0</th>\n",
       "      <td>1000000004</td>\n",
       "      <td>1548295421</td>\n",
       "      <td>25</td>\n",
       "      <td>11</td>\n",
       "      <td>8</td>\n",
       "    </tr>\n",
       "    <tr>\n",
       "      <th>1</th>\n",
       "      <td>1000000004</td>\n",
       "      <td>1790775229</td>\n",
       "      <td>60</td>\n",
       "      <td>22</td>\n",
       "      <td>30</td>\n",
       "    </tr>\n",
       "    <tr>\n",
       "      <th>2</th>\n",
       "      <td>1000026017</td>\n",
       "      <td>1598773715</td>\n",
       "      <td>35</td>\n",
       "      <td>15</td>\n",
       "      <td>18</td>\n",
       "    </tr>\n",
       "  </tbody>\n",
       "</table>\n",
       "</div>"
      ],
      "text/plain": [
       "            0           1   2   3   4\n",
       "0  1000000004  1548295421  25  11   8\n",
       "1  1000000004  1790775229  60  22  30\n",
       "2  1000026017  1598773715  35  15  18"
      ]
     },
     "execution_count": 74,
     "metadata": {},
     "output_type": "execute_result"
    }
   ],
   "source": [
    "data.head(3)"
   ]
  },
  {
   "cell_type": "code",
   "execution_count": 75,
   "metadata": {},
   "outputs": [],
   "source": [
    "data.columns = ['provider','receiver','V3','V4','V5']"
   ]
  },
  {
   "cell_type": "code",
   "execution_count": 76,
   "metadata": {},
   "outputs": [
    {
     "data": {
      "text/html": [
       "<div>\n",
       "<table border=\"1\" class=\"dataframe\">\n",
       "  <thead>\n",
       "    <tr style=\"text-align: right;\">\n",
       "      <th></th>\n",
       "      <th>provider</th>\n",
       "      <th>receiver</th>\n",
       "      <th>V3</th>\n",
       "      <th>V4</th>\n",
       "      <th>V5</th>\n",
       "    </tr>\n",
       "  </thead>\n",
       "  <tbody>\n",
       "    <tr>\n",
       "      <th>0</th>\n",
       "      <td>1000000004</td>\n",
       "      <td>1548295421</td>\n",
       "      <td>25</td>\n",
       "      <td>11</td>\n",
       "      <td>8</td>\n",
       "    </tr>\n",
       "    <tr>\n",
       "      <th>1</th>\n",
       "      <td>1000000004</td>\n",
       "      <td>1790775229</td>\n",
       "      <td>60</td>\n",
       "      <td>22</td>\n",
       "      <td>30</td>\n",
       "    </tr>\n",
       "    <tr>\n",
       "      <th>2</th>\n",
       "      <td>1000026017</td>\n",
       "      <td>1598773715</td>\n",
       "      <td>35</td>\n",
       "      <td>15</td>\n",
       "      <td>18</td>\n",
       "    </tr>\n",
       "  </tbody>\n",
       "</table>\n",
       "</div>"
      ],
      "text/plain": [
       "     provider    receiver  V3  V4  V5\n",
       "0  1000000004  1548295421  25  11   8\n",
       "1  1000000004  1790775229  60  22  30\n",
       "2  1000026017  1598773715  35  15  18"
      ]
     },
     "execution_count": 76,
     "metadata": {},
     "output_type": "execute_result"
    }
   ],
   "source": [
    "data.head(3)"
   ]
  },
  {
   "cell_type": "code",
   "execution_count": 77,
   "metadata": {},
   "outputs": [],
   "source": [
    "edge = data[['provider','receiver']]"
   ]
  },
  {
   "cell_type": "code",
   "execution_count": 78,
   "metadata": {},
   "outputs": [],
   "source": [
    "sort_provider = edge.groupby('provider').count().sort_values('receiver',ascending = False)\n"
   ]
  },
  {
   "cell_type": "code",
   "execution_count": null,
   "metadata": {},
   "outputs": [],
   "source": [
    "#subgraph = data[data.provider == a.iloc[0,:].name]"
   ]
  },
  {
   "cell_type": "code",
   "execution_count": 8,
   "metadata": {},
   "outputs": [],
   "source": [
    "npi = pd.read_csv('/Users/mueric35/Desktop/Margolis_Center/npi_medicarexw.csv')"
   ]
  },
  {
   "cell_type": "code",
   "execution_count": 9,
   "metadata": {},
   "outputs": [
    {
     "data": {
      "text/html": [
       "<div>\n",
       "<table border=\"1\" class=\"dataframe\">\n",
       "  <thead>\n",
       "    <tr style=\"text-align: right;\">\n",
       "      <th></th>\n",
       "      <th>npi</th>\n",
       "      <th>seq</th>\n",
       "      <th>othpid</th>\n",
       "      <th>othpidty</th>\n",
       "      <th>othpidst</th>\n",
       "      <th>othpidiss</th>\n",
       "    </tr>\n",
       "  </thead>\n",
       "  <tbody>\n",
       "    <tr>\n",
       "      <th>0</th>\n",
       "      <td>1003000142</td>\n",
       "      <td>2</td>\n",
       "      <td>H007320</td>\n",
       "      <td>8</td>\n",
       "      <td>OH</td>\n",
       "      <td>NaN</td>\n",
       "    </tr>\n",
       "    <tr>\n",
       "      <th>1</th>\n",
       "      <td>1003000159</td>\n",
       "      <td>1</td>\n",
       "      <td>P099265277</td>\n",
       "      <td>8</td>\n",
       "      <td>SC</td>\n",
       "      <td>NaN</td>\n",
       "    </tr>\n",
       "    <tr>\n",
       "      <th>2</th>\n",
       "      <td>1003000159</td>\n",
       "      <td>4</td>\n",
       "      <td>9295</td>\n",
       "      <td>8</td>\n",
       "      <td>SC</td>\n",
       "      <td>NaN</td>\n",
       "    </tr>\n",
       "    <tr>\n",
       "      <th>3</th>\n",
       "      <td>1003000159</td>\n",
       "      <td>5</td>\n",
       "      <td>P099269295</td>\n",
       "      <td>2</td>\n",
       "      <td>SC</td>\n",
       "      <td>NaN</td>\n",
       "    </tr>\n",
       "    <tr>\n",
       "      <th>4</th>\n",
       "      <td>1003000274</td>\n",
       "      <td>2</td>\n",
       "      <td>4J980BC64</td>\n",
       "      <td>8</td>\n",
       "      <td>LA</td>\n",
       "      <td>NaN</td>\n",
       "    </tr>\n",
       "  </tbody>\n",
       "</table>\n",
       "</div>"
      ],
      "text/plain": [
       "          npi  seq      othpid  othpidty othpidst othpidiss\n",
       "0  1003000142    2     H007320         8       OH       NaN\n",
       "1  1003000159    1  P099265277         8       SC       NaN\n",
       "2  1003000159    4        9295         8       SC       NaN\n",
       "3  1003000159    5  P099269295         2       SC       NaN\n",
       "4  1003000274    2   4J980BC64         8       LA       NaN"
      ]
     },
     "execution_count": 9,
     "metadata": {},
     "output_type": "execute_result"
    }
   ],
   "source": [
    "npi.head()"
   ]
  },
  {
   "cell_type": "markdown",
   "metadata": {},
   "source": [
    "## Read Taxonomy Code"
   ]
  },
  {
   "cell_type": "code",
   "execution_count": 14,
   "metadata": {
    "collapsed": true
   },
   "outputs": [],
   "source": [
    "taxo = pd.read_csv('/Users/mueric35/Desktop/Margolis_Center/tax_csv.csv')"
   ]
  },
  {
   "cell_type": "code",
   "execution_count": 15,
   "metadata": {
    "scrolled": true
   },
   "outputs": [
    {
     "data": {
      "text/html": [
       "<div>\n",
       "<table border=\"1\" class=\"dataframe\">\n",
       "  <thead>\n",
       "    <tr style=\"text-align: right;\">\n",
       "      <th></th>\n",
       "      <th>Code</th>\n",
       "      <th>Grouping</th>\n",
       "      <th>Classification</th>\n",
       "      <th>Specialization</th>\n",
       "    </tr>\n",
       "  </thead>\n",
       "  <tbody>\n",
       "    <tr>\n",
       "      <th>0</th>\n",
       "      <td>163WH1000X</td>\n",
       "      <td>Nursing Service Providers</td>\n",
       "      <td>Registered Nurse</td>\n",
       "      <td>Hospice</td>\n",
       "    </tr>\n",
       "    <tr>\n",
       "      <th>1</th>\n",
       "      <td>207LH0002X</td>\n",
       "      <td>Allopathic &amp; Osteopathic Physicians</td>\n",
       "      <td>Anesthesiology</td>\n",
       "      <td>Hospice and Palliative Medicine</td>\n",
       "    </tr>\n",
       "    <tr>\n",
       "      <th>2</th>\n",
       "      <td>207PH0002X</td>\n",
       "      <td>Allopathic &amp; Osteopathic Physicians</td>\n",
       "      <td>Emergency Medicine</td>\n",
       "      <td>Hospice and Palliative Medicine</td>\n",
       "    </tr>\n",
       "    <tr>\n",
       "      <th>3</th>\n",
       "      <td>207QH0002X</td>\n",
       "      <td>Allopathic &amp; Osteopathic Physicians</td>\n",
       "      <td>Family Medicine</td>\n",
       "      <td>Hospice and Palliative Medicine</td>\n",
       "    </tr>\n",
       "    <tr>\n",
       "      <th>4</th>\n",
       "      <td>207RH0002X</td>\n",
       "      <td>Allopathic &amp; Osteopathic Physicians</td>\n",
       "      <td>Internal Medicine</td>\n",
       "      <td>Hospice and Palliative Medicine</td>\n",
       "    </tr>\n",
       "  </tbody>\n",
       "</table>\n",
       "</div>"
      ],
      "text/plain": [
       "         Code                             Grouping      Classification  \\\n",
       "0  163WH1000X            Nursing Service Providers    Registered Nurse   \n",
       "1  207LH0002X  Allopathic & Osteopathic Physicians      Anesthesiology   \n",
       "2  207PH0002X  Allopathic & Osteopathic Physicians  Emergency Medicine   \n",
       "3  207QH0002X  Allopathic & Osteopathic Physicians     Family Medicine   \n",
       "4  207RH0002X  Allopathic & Osteopathic Physicians   Internal Medicine   \n",
       "\n",
       "                    Specialization  \n",
       "0                          Hospice  \n",
       "1  Hospice and Palliative Medicine  \n",
       "2  Hospice and Palliative Medicine  \n",
       "3  Hospice and Palliative Medicine  \n",
       "4  Hospice and Palliative Medicine  "
      ]
     },
     "execution_count": 15,
     "metadata": {},
     "output_type": "execute_result"
    }
   ],
   "source": [
    "taxo.head()"
   ]
  },
  {
   "cell_type": "code",
   "execution_count": 29,
   "metadata": {},
   "outputs": [],
   "source": [
    "taxo = taxo.rename(columns = {'Code' :'Healthcare Provider Taxonomy Code_1'})"
   ]
  },
  {
   "cell_type": "code",
   "execution_count": 30,
   "metadata": {},
   "outputs": [
    {
     "data": {
      "text/html": [
       "<div>\n",
       "<table border=\"1\" class=\"dataframe\">\n",
       "  <thead>\n",
       "    <tr style=\"text-align: right;\">\n",
       "      <th></th>\n",
       "      <th>Healthcare Provider Taxonomy Code_1</th>\n",
       "      <th>Grouping</th>\n",
       "      <th>Classification</th>\n",
       "      <th>Specialization</th>\n",
       "    </tr>\n",
       "  </thead>\n",
       "  <tbody>\n",
       "    <tr>\n",
       "      <th>0</th>\n",
       "      <td>163WH1000X</td>\n",
       "      <td>Nursing Service Providers</td>\n",
       "      <td>Registered Nurse</td>\n",
       "      <td>Hospice</td>\n",
       "    </tr>\n",
       "    <tr>\n",
       "      <th>1</th>\n",
       "      <td>207LH0002X</td>\n",
       "      <td>Allopathic &amp; Osteopathic Physicians</td>\n",
       "      <td>Anesthesiology</td>\n",
       "      <td>Hospice and Palliative Medicine</td>\n",
       "    </tr>\n",
       "    <tr>\n",
       "      <th>2</th>\n",
       "      <td>207PH0002X</td>\n",
       "      <td>Allopathic &amp; Osteopathic Physicians</td>\n",
       "      <td>Emergency Medicine</td>\n",
       "      <td>Hospice and Palliative Medicine</td>\n",
       "    </tr>\n",
       "    <tr>\n",
       "      <th>3</th>\n",
       "      <td>207QH0002X</td>\n",
       "      <td>Allopathic &amp; Osteopathic Physicians</td>\n",
       "      <td>Family Medicine</td>\n",
       "      <td>Hospice and Palliative Medicine</td>\n",
       "    </tr>\n",
       "    <tr>\n",
       "      <th>4</th>\n",
       "      <td>207RH0002X</td>\n",
       "      <td>Allopathic &amp; Osteopathic Physicians</td>\n",
       "      <td>Internal Medicine</td>\n",
       "      <td>Hospice and Palliative Medicine</td>\n",
       "    </tr>\n",
       "  </tbody>\n",
       "</table>\n",
       "</div>"
      ],
      "text/plain": [
       "  Healthcare Provider Taxonomy Code_1                             Grouping  \\\n",
       "0                          163WH1000X            Nursing Service Providers   \n",
       "1                          207LH0002X  Allopathic & Osteopathic Physicians   \n",
       "2                          207PH0002X  Allopathic & Osteopathic Physicians   \n",
       "3                          207QH0002X  Allopathic & Osteopathic Physicians   \n",
       "4                          207RH0002X  Allopathic & Osteopathic Physicians   \n",
       "\n",
       "       Classification                   Specialization  \n",
       "0    Registered Nurse                          Hospice  \n",
       "1      Anesthesiology  Hospice and Palliative Medicine  \n",
       "2  Emergency Medicine  Hospice and Palliative Medicine  \n",
       "3     Family Medicine  Hospice and Palliative Medicine  \n",
       "4   Internal Medicine  Hospice and Palliative Medicine  "
      ]
     },
     "execution_count": 30,
     "metadata": {},
     "output_type": "execute_result"
    }
   ],
   "source": [
    "taxo.head()"
   ]
  },
  {
   "cell_type": "markdown",
   "metadata": {},
   "source": [
    "## Read 2005-2017 data"
   ]
  },
  {
   "cell_type": "code",
   "execution_count": 11,
   "metadata": {},
   "outputs": [],
   "source": [
    "### Read Data by Generator\n",
    "df = pd.read_csv('/Users/mueric35/Desktop/Margolis_Center/npidata_20050523-20170312.csv', iterator = True, chunksize=1000)\n",
    "node = pd.concat([i[['NPI','Entity Type Code','Provider Business Practice Location Address State Name','Healthcare Provider Taxonomy Code_1']] for i in df])\n"
   ]
  },
  {
   "cell_type": "code",
   "execution_count": 12,
   "metadata": {},
   "outputs": [
    {
     "data": {
      "text/html": [
       "<div>\n",
       "<table border=\"1\" class=\"dataframe\">\n",
       "  <thead>\n",
       "    <tr style=\"text-align: right;\">\n",
       "      <th></th>\n",
       "      <th>NPI</th>\n",
       "      <th>Entity Type Code</th>\n",
       "      <th>Provider Business Practice Location Address State Name</th>\n",
       "      <th>Healthcare Provider Taxonomy Code_1</th>\n",
       "    </tr>\n",
       "  </thead>\n",
       "  <tbody>\n",
       "    <tr>\n",
       "      <th>0</th>\n",
       "      <td>1679576722</td>\n",
       "      <td>1.0</td>\n",
       "      <td>NE</td>\n",
       "      <td>207X00000X</td>\n",
       "    </tr>\n",
       "    <tr>\n",
       "      <th>1</th>\n",
       "      <td>1588667638</td>\n",
       "      <td>1.0</td>\n",
       "      <td>FL</td>\n",
       "      <td>207RC0000X</td>\n",
       "    </tr>\n",
       "    <tr>\n",
       "      <th>2</th>\n",
       "      <td>1497758544</td>\n",
       "      <td>2.0</td>\n",
       "      <td>NC</td>\n",
       "      <td>251G00000X</td>\n",
       "    </tr>\n",
       "    <tr>\n",
       "      <th>3</th>\n",
       "      <td>1306849450</td>\n",
       "      <td>1.0</td>\n",
       "      <td>TX</td>\n",
       "      <td>2085R0202X</td>\n",
       "    </tr>\n",
       "    <tr>\n",
       "      <th>4</th>\n",
       "      <td>1215930367</td>\n",
       "      <td>1.0</td>\n",
       "      <td>TX</td>\n",
       "      <td>174400000X</td>\n",
       "    </tr>\n",
       "  </tbody>\n",
       "</table>\n",
       "</div>"
      ],
      "text/plain": [
       "          NPI  Entity Type Code  \\\n",
       "0  1679576722               1.0   \n",
       "1  1588667638               1.0   \n",
       "2  1497758544               2.0   \n",
       "3  1306849450               1.0   \n",
       "4  1215930367               1.0   \n",
       "\n",
       "  Provider Business Practice Location Address State Name  \\\n",
       "0                                                 NE       \n",
       "1                                                 FL       \n",
       "2                                                 NC       \n",
       "3                                                 TX       \n",
       "4                                                 TX       \n",
       "\n",
       "  Healthcare Provider Taxonomy Code_1  \n",
       "0                          207X00000X  \n",
       "1                          207RC0000X  \n",
       "2                          251G00000X  \n",
       "3                          2085R0202X  \n",
       "4                          174400000X  "
      ]
     },
     "execution_count": 12,
     "metadata": {},
     "output_type": "execute_result"
    }
   ],
   "source": [
    "node.head()"
   ]
  },
  {
   "cell_type": "code",
   "execution_count": 214,
   "metadata": {},
   "outputs": [],
   "source": [
    "node.columns = ['NPI', 'Type',\n",
    "       'State',\n",
    "       'Healthcare Provider Taxonomy Code_1']"
   ]
  },
  {
   "cell_type": "code",
   "execution_count": 215,
   "metadata": {},
   "outputs": [
    {
     "data": {
      "text/html": [
       "<div>\n",
       "<table border=\"1\" class=\"dataframe\">\n",
       "  <thead>\n",
       "    <tr style=\"text-align: right;\">\n",
       "      <th></th>\n",
       "      <th>NPI</th>\n",
       "      <th>Type</th>\n",
       "      <th>State</th>\n",
       "      <th>Healthcare Provider Taxonomy Code_1</th>\n",
       "    </tr>\n",
       "  </thead>\n",
       "  <tbody>\n",
       "    <tr>\n",
       "      <th>0</th>\n",
       "      <td>1679576722</td>\n",
       "      <td>1.0</td>\n",
       "      <td>NE</td>\n",
       "      <td>207X00000X</td>\n",
       "    </tr>\n",
       "    <tr>\n",
       "      <th>1</th>\n",
       "      <td>1588667638</td>\n",
       "      <td>1.0</td>\n",
       "      <td>FL</td>\n",
       "      <td>207RC0000X</td>\n",
       "    </tr>\n",
       "    <tr>\n",
       "      <th>2</th>\n",
       "      <td>1497758544</td>\n",
       "      <td>2.0</td>\n",
       "      <td>NC</td>\n",
       "      <td>251G00000X</td>\n",
       "    </tr>\n",
       "    <tr>\n",
       "      <th>3</th>\n",
       "      <td>1306849450</td>\n",
       "      <td>1.0</td>\n",
       "      <td>TX</td>\n",
       "      <td>2085R0202X</td>\n",
       "    </tr>\n",
       "    <tr>\n",
       "      <th>4</th>\n",
       "      <td>1215930367</td>\n",
       "      <td>1.0</td>\n",
       "      <td>TX</td>\n",
       "      <td>174400000X</td>\n",
       "    </tr>\n",
       "  </tbody>\n",
       "</table>\n",
       "</div>"
      ],
      "text/plain": [
       "          NPI  Type State Healthcare Provider Taxonomy Code_1\n",
       "0  1679576722   1.0    NE                          207X00000X\n",
       "1  1588667638   1.0    FL                          207RC0000X\n",
       "2  1497758544   2.0    NC                          251G00000X\n",
       "3  1306849450   1.0    TX                          2085R0202X\n",
       "4  1215930367   1.0    TX                          174400000X"
      ]
     },
     "execution_count": 215,
     "metadata": {},
     "output_type": "execute_result"
    }
   ],
   "source": [
    "node.head()"
   ]
  },
  {
   "cell_type": "markdown",
   "metadata": {},
   "source": [
    "## Filter Hospice"
   ]
  },
  {
   "cell_type": "code",
   "execution_count": 107,
   "metadata": {},
   "outputs": [],
   "source": [
    "node_hospice = node.loc[node['Healthcare Provider Taxonomy Code_1'].isin(taxo['Healthcare Provider Taxonomy Code_1'])]"
   ]
  },
  {
   "cell_type": "code",
   "execution_count": 108,
   "metadata": {},
   "outputs": [],
   "source": [
    "node_hospice = pd.merge(node_hospice,taxo, on = 'Healthcare Provider Taxonomy Code_1',how='left')"
   ]
  },
  {
   "cell_type": "code",
   "execution_count": 109,
   "metadata": {},
   "outputs": [
    {
     "data": {
      "text/html": [
       "<div>\n",
       "<table border=\"1\" class=\"dataframe\">\n",
       "  <thead>\n",
       "    <tr style=\"text-align: right;\">\n",
       "      <th></th>\n",
       "      <th>NPI</th>\n",
       "      <th>Entity Type Code</th>\n",
       "      <th>Provider Business Practice Location Address State Name</th>\n",
       "      <th>Healthcare Provider Taxonomy Code_1</th>\n",
       "      <th>Grouping</th>\n",
       "      <th>Classification</th>\n",
       "      <th>Specialization</th>\n",
       "    </tr>\n",
       "  </thead>\n",
       "  <tbody>\n",
       "    <tr>\n",
       "      <th>0</th>\n",
       "      <td>1861495954</td>\n",
       "      <td>2.0</td>\n",
       "      <td>KY</td>\n",
       "      <td>207QH0002X</td>\n",
       "      <td>Allopathic &amp; Osteopathic Physicians</td>\n",
       "      <td>Family Medicine</td>\n",
       "      <td>Hospice and Palliative Medicine</td>\n",
       "    </tr>\n",
       "    <tr>\n",
       "      <th>1</th>\n",
       "      <td>1144223231</td>\n",
       "      <td>1.0</td>\n",
       "      <td>OH</td>\n",
       "      <td>207RH0002X</td>\n",
       "      <td>Allopathic &amp; Osteopathic Physicians</td>\n",
       "      <td>Internal Medicine</td>\n",
       "      <td>Hospice and Palliative Medicine</td>\n",
       "    </tr>\n",
       "    <tr>\n",
       "      <th>2</th>\n",
       "      <td>1477556934</td>\n",
       "      <td>2.0</td>\n",
       "      <td>CO</td>\n",
       "      <td>207RH0002X</td>\n",
       "      <td>Allopathic &amp; Osteopathic Physicians</td>\n",
       "      <td>Internal Medicine</td>\n",
       "      <td>Hospice and Palliative Medicine</td>\n",
       "    </tr>\n",
       "    <tr>\n",
       "      <th>3</th>\n",
       "      <td>1467455709</td>\n",
       "      <td>1.0</td>\n",
       "      <td>NY</td>\n",
       "      <td>207QH0002X</td>\n",
       "      <td>Allopathic &amp; Osteopathic Physicians</td>\n",
       "      <td>Family Medicine</td>\n",
       "      <td>Hospice and Palliative Medicine</td>\n",
       "    </tr>\n",
       "    <tr>\n",
       "      <th>4</th>\n",
       "      <td>1669474854</td>\n",
       "      <td>1.0</td>\n",
       "      <td>NY</td>\n",
       "      <td>207RH0002X</td>\n",
       "      <td>Allopathic &amp; Osteopathic Physicians</td>\n",
       "      <td>Internal Medicine</td>\n",
       "      <td>Hospice and Palliative Medicine</td>\n",
       "    </tr>\n",
       "  </tbody>\n",
       "</table>\n",
       "</div>"
      ],
      "text/plain": [
       "          NPI  Entity Type Code  \\\n",
       "0  1861495954               2.0   \n",
       "1  1144223231               1.0   \n",
       "2  1477556934               2.0   \n",
       "3  1467455709               1.0   \n",
       "4  1669474854               1.0   \n",
       "\n",
       "  Provider Business Practice Location Address State Name  \\\n",
       "0                                                 KY       \n",
       "1                                                 OH       \n",
       "2                                                 CO       \n",
       "3                                                 NY       \n",
       "4                                                 NY       \n",
       "\n",
       "  Healthcare Provider Taxonomy Code_1                             Grouping  \\\n",
       "0                          207QH0002X  Allopathic & Osteopathic Physicians   \n",
       "1                          207RH0002X  Allopathic & Osteopathic Physicians   \n",
       "2                          207RH0002X  Allopathic & Osteopathic Physicians   \n",
       "3                          207QH0002X  Allopathic & Osteopathic Physicians   \n",
       "4                          207RH0002X  Allopathic & Osteopathic Physicians   \n",
       "\n",
       "      Classification                   Specialization  \n",
       "0    Family Medicine  Hospice and Palliative Medicine  \n",
       "1  Internal Medicine  Hospice and Palliative Medicine  \n",
       "2  Internal Medicine  Hospice and Palliative Medicine  \n",
       "3    Family Medicine  Hospice and Palliative Medicine  \n",
       "4  Internal Medicine  Hospice and Palliative Medicine  "
      ]
     },
     "execution_count": 109,
     "metadata": {},
     "output_type": "execute_result"
    }
   ],
   "source": [
    "node_hospice.head()"
   ]
  },
  {
   "cell_type": "code",
   "execution_count": 68,
   "metadata": {},
   "outputs": [],
   "source": [
    "### Save Node Info\n",
    "pd.DataFrame.to_csv(node_hospice,'/Users/mueric35/Desktop/Margolis_Center/node.csv')"
   ]
  },
  {
   "cell_type": "code",
   "execution_count": 201,
   "metadata": {},
   "outputs": [],
   "source": [
    "node_hospice.columns = ['NPI','Type','State','Taxonomy_Code','Grouping',\"Classification\",'Specialization']"
   ]
  },
  {
   "cell_type": "code",
   "execution_count": 202,
   "metadata": {},
   "outputs": [
    {
     "data": {
      "text/html": [
       "<div>\n",
       "<table border=\"1\" class=\"dataframe\">\n",
       "  <thead>\n",
       "    <tr style=\"text-align: right;\">\n",
       "      <th></th>\n",
       "      <th>NPI</th>\n",
       "      <th>Type</th>\n",
       "      <th>State</th>\n",
       "      <th>Taxonomy_Code</th>\n",
       "      <th>Grouping</th>\n",
       "      <th>Classification</th>\n",
       "      <th>Specialization</th>\n",
       "    </tr>\n",
       "  </thead>\n",
       "  <tbody>\n",
       "    <tr>\n",
       "      <th>0</th>\n",
       "      <td>1861495954</td>\n",
       "      <td>2.0</td>\n",
       "      <td>KY</td>\n",
       "      <td>207QH0002X</td>\n",
       "      <td>Allopathic &amp; Osteopathic Physicians</td>\n",
       "      <td>Family Medicine</td>\n",
       "      <td>Hospice and Palliative Medicine</td>\n",
       "    </tr>\n",
       "    <tr>\n",
       "      <th>1</th>\n",
       "      <td>1144223231</td>\n",
       "      <td>1.0</td>\n",
       "      <td>OH</td>\n",
       "      <td>207RH0002X</td>\n",
       "      <td>Allopathic &amp; Osteopathic Physicians</td>\n",
       "      <td>Internal Medicine</td>\n",
       "      <td>Hospice and Palliative Medicine</td>\n",
       "    </tr>\n",
       "    <tr>\n",
       "      <th>2</th>\n",
       "      <td>1477556934</td>\n",
       "      <td>2.0</td>\n",
       "      <td>CO</td>\n",
       "      <td>207RH0002X</td>\n",
       "      <td>Allopathic &amp; Osteopathic Physicians</td>\n",
       "      <td>Internal Medicine</td>\n",
       "      <td>Hospice and Palliative Medicine</td>\n",
       "    </tr>\n",
       "    <tr>\n",
       "      <th>3</th>\n",
       "      <td>1467455709</td>\n",
       "      <td>1.0</td>\n",
       "      <td>NY</td>\n",
       "      <td>207QH0002X</td>\n",
       "      <td>Allopathic &amp; Osteopathic Physicians</td>\n",
       "      <td>Family Medicine</td>\n",
       "      <td>Hospice and Palliative Medicine</td>\n",
       "    </tr>\n",
       "    <tr>\n",
       "      <th>4</th>\n",
       "      <td>1669474854</td>\n",
       "      <td>1.0</td>\n",
       "      <td>NY</td>\n",
       "      <td>207RH0002X</td>\n",
       "      <td>Allopathic &amp; Osteopathic Physicians</td>\n",
       "      <td>Internal Medicine</td>\n",
       "      <td>Hospice and Palliative Medicine</td>\n",
       "    </tr>\n",
       "  </tbody>\n",
       "</table>\n",
       "</div>"
      ],
      "text/plain": [
       "          NPI  Type State Taxonomy_Code                             Grouping  \\\n",
       "0  1861495954   2.0    KY    207QH0002X  Allopathic & Osteopathic Physicians   \n",
       "1  1144223231   1.0    OH    207RH0002X  Allopathic & Osteopathic Physicians   \n",
       "2  1477556934   2.0    CO    207RH0002X  Allopathic & Osteopathic Physicians   \n",
       "3  1467455709   1.0    NY    207QH0002X  Allopathic & Osteopathic Physicians   \n",
       "4  1669474854   1.0    NY    207RH0002X  Allopathic & Osteopathic Physicians   \n",
       "\n",
       "      Classification                   Specialization  \n",
       "0    Family Medicine  Hospice and Palliative Medicine  \n",
       "1  Internal Medicine  Hospice and Palliative Medicine  \n",
       "2  Internal Medicine  Hospice and Palliative Medicine  \n",
       "3    Family Medicine  Hospice and Palliative Medicine  \n",
       "4  Internal Medicine  Hospice and Palliative Medicine  "
      ]
     },
     "execution_count": 202,
     "metadata": {},
     "output_type": "execute_result"
    }
   ],
   "source": [
    "node_hospice.head()"
   ]
  },
  {
   "cell_type": "markdown",
   "metadata": {},
   "source": [
    "## Patients refered to Hospice"
   ]
  },
  {
   "cell_type": "markdown",
   "metadata": {},
   "source": [
    "#### keep the reveiver to be only the hospice"
   ]
  },
  {
   "cell_type": "code",
   "execution_count": 203,
   "metadata": {},
   "outputs": [],
   "source": [
    "data_hospice = data.loc[data['receiver'].isin(node_hospice['NPI'])]"
   ]
  },
  {
   "cell_type": "code",
   "execution_count": 204,
   "metadata": {},
   "outputs": [
    {
     "data": {
      "text/plain": [
       "(27751, 5)"
      ]
     },
     "execution_count": 204,
     "metadata": {},
     "output_type": "execute_result"
    }
   ],
   "source": [
    "data_hospice.shape"
   ]
  },
  {
   "cell_type": "code",
   "execution_count": 216,
   "metadata": {},
   "outputs": [],
   "source": [
    "node_referer = node[['NPI','Type','State']]\n",
    "node_referer.columns = ['provider', 'Type', 'State']"
   ]
  },
  {
   "cell_type": "code",
   "execution_count": 224,
   "metadata": {},
   "outputs": [],
   "source": [
    "a = data_hospice.merge(node_referer, on = 'provider', how = 'left')\n"
   ]
  },
  {
   "cell_type": "code",
   "execution_count": 225,
   "metadata": {},
   "outputs": [],
   "source": [
    "a = a.rename(columns = {'State':'State_provider', 'Type': 'Type_provider'})\n",
    "node_hospice.columns = ['receiver', 'Type', 'State', 'Taxonomy_Code', 'Grouping', 'Classification',\n",
    "       'Specialization']\n",
    "b = a.merge(node_hospice)\n",
    "full_data = b.rename(columns = {'State':'State_receiver', 'Type': 'Type_receiver'})\n"
   ]
  },
  {
   "cell_type": "code",
   "execution_count": 226,
   "metadata": {},
   "outputs": [
    {
     "data": {
      "text/html": [
       "<div>\n",
       "<table border=\"1\" class=\"dataframe\">\n",
       "  <thead>\n",
       "    <tr style=\"text-align: right;\">\n",
       "      <th></th>\n",
       "      <th>provider</th>\n",
       "      <th>receiver</th>\n",
       "      <th>V3</th>\n",
       "      <th>V4</th>\n",
       "      <th>V5</th>\n",
       "      <th>Type_provider</th>\n",
       "      <th>State_provider</th>\n",
       "      <th>Type_receiver</th>\n",
       "      <th>State_receiver</th>\n",
       "      <th>Taxonomy_Code</th>\n",
       "      <th>Grouping</th>\n",
       "      <th>Classification</th>\n",
       "      <th>Specialization</th>\n",
       "    </tr>\n",
       "  </thead>\n",
       "  <tbody>\n",
       "    <tr>\n",
       "      <th>0</th>\n",
       "      <td>1003004771</td>\n",
       "      <td>1649494980</td>\n",
       "      <td>119</td>\n",
       "      <td>30</td>\n",
       "      <td>2</td>\n",
       "      <td>1.0</td>\n",
       "      <td>CO</td>\n",
       "      <td>1.0</td>\n",
       "      <td>CO</td>\n",
       "      <td>2081H0002X</td>\n",
       "      <td>Allopathic &amp; Osteopathic Physicians</td>\n",
       "      <td>Physical Medicine &amp; Rehabilitation</td>\n",
       "      <td>Hospice and Palliative Medicine</td>\n",
       "    </tr>\n",
       "    <tr>\n",
       "      <th>1</th>\n",
       "      <td>1003878448</td>\n",
       "      <td>1649494980</td>\n",
       "      <td>59</td>\n",
       "      <td>21</td>\n",
       "      <td>1</td>\n",
       "      <td>1.0</td>\n",
       "      <td>CO</td>\n",
       "      <td>1.0</td>\n",
       "      <td>CO</td>\n",
       "      <td>2081H0002X</td>\n",
       "      <td>Allopathic &amp; Osteopathic Physicians</td>\n",
       "      <td>Physical Medicine &amp; Rehabilitation</td>\n",
       "      <td>Hospice and Palliative Medicine</td>\n",
       "    </tr>\n",
       "    <tr>\n",
       "      <th>2</th>\n",
       "      <td>1013063601</td>\n",
       "      <td>1649494980</td>\n",
       "      <td>99</td>\n",
       "      <td>20</td>\n",
       "      <td>8</td>\n",
       "      <td>1.0</td>\n",
       "      <td>CO</td>\n",
       "      <td>1.0</td>\n",
       "      <td>CO</td>\n",
       "      <td>2081H0002X</td>\n",
       "      <td>Allopathic &amp; Osteopathic Physicians</td>\n",
       "      <td>Physical Medicine &amp; Rehabilitation</td>\n",
       "      <td>Hospice and Palliative Medicine</td>\n",
       "    </tr>\n",
       "    <tr>\n",
       "      <th>3</th>\n",
       "      <td>1013989342</td>\n",
       "      <td>1649494980</td>\n",
       "      <td>166</td>\n",
       "      <td>16</td>\n",
       "      <td>2</td>\n",
       "      <td>1.0</td>\n",
       "      <td>CO</td>\n",
       "      <td>1.0</td>\n",
       "      <td>CO</td>\n",
       "      <td>2081H0002X</td>\n",
       "      <td>Allopathic &amp; Osteopathic Physicians</td>\n",
       "      <td>Physical Medicine &amp; Rehabilitation</td>\n",
       "      <td>Hospice and Palliative Medicine</td>\n",
       "    </tr>\n",
       "    <tr>\n",
       "      <th>4</th>\n",
       "      <td>1033195052</td>\n",
       "      <td>1649494980</td>\n",
       "      <td>28</td>\n",
       "      <td>13</td>\n",
       "      <td>0</td>\n",
       "      <td>1.0</td>\n",
       "      <td>CO</td>\n",
       "      <td>1.0</td>\n",
       "      <td>CO</td>\n",
       "      <td>2081H0002X</td>\n",
       "      <td>Allopathic &amp; Osteopathic Physicians</td>\n",
       "      <td>Physical Medicine &amp; Rehabilitation</td>\n",
       "      <td>Hospice and Palliative Medicine</td>\n",
       "    </tr>\n",
       "  </tbody>\n",
       "</table>\n",
       "</div>"
      ],
      "text/plain": [
       "     provider    receiver   V3  V4  V5  Type_provider State_provider  \\\n",
       "0  1003004771  1649494980  119  30   2            1.0             CO   \n",
       "1  1003878448  1649494980   59  21   1            1.0             CO   \n",
       "2  1013063601  1649494980   99  20   8            1.0             CO   \n",
       "3  1013989342  1649494980  166  16   2            1.0             CO   \n",
       "4  1033195052  1649494980   28  13   0            1.0             CO   \n",
       "\n",
       "   Type_receiver State_receiver Taxonomy_Code  \\\n",
       "0            1.0             CO    2081H0002X   \n",
       "1            1.0             CO    2081H0002X   \n",
       "2            1.0             CO    2081H0002X   \n",
       "3            1.0             CO    2081H0002X   \n",
       "4            1.0             CO    2081H0002X   \n",
       "\n",
       "                              Grouping                      Classification  \\\n",
       "0  Allopathic & Osteopathic Physicians  Physical Medicine & Rehabilitation   \n",
       "1  Allopathic & Osteopathic Physicians  Physical Medicine & Rehabilitation   \n",
       "2  Allopathic & Osteopathic Physicians  Physical Medicine & Rehabilitation   \n",
       "3  Allopathic & Osteopathic Physicians  Physical Medicine & Rehabilitation   \n",
       "4  Allopathic & Osteopathic Physicians  Physical Medicine & Rehabilitation   \n",
       "\n",
       "                    Specialization  \n",
       "0  Hospice and Palliative Medicine  \n",
       "1  Hospice and Palliative Medicine  \n",
       "2  Hospice and Palliative Medicine  \n",
       "3  Hospice and Palliative Medicine  \n",
       "4  Hospice and Palliative Medicine  "
      ]
     },
     "execution_count": 226,
     "metadata": {},
     "output_type": "execute_result"
    }
   ],
   "source": [
    "full_data.head()"
   ]
  },
  {
   "cell_type": "code",
   "execution_count": 227,
   "metadata": {},
   "outputs": [],
   "source": [
    "#pd.DataFrame.to_csv(full_data,'/Users/mueric35/Desktop/Margolis_Center/data_node.csv')"
   ]
  },
  {
   "cell_type": "markdown",
   "metadata": {},
   "source": [
    "## Count Group by State "
   ]
  },
  {
   "cell_type": "code",
   "execution_count": 228,
   "metadata": {},
   "outputs": [],
   "source": [
    "full_data = pd.read_csv('/Users/mueric35/Desktop/Margolis_Center/data_node.csv')\n",
    "count_data = full_data[['State_provider','State_receiver']]\n",
    "\n"
   ]
  },
  {
   "cell_type": "code",
   "execution_count": 229,
   "metadata": {
    "scrolled": true
   },
   "outputs": [
    {
     "data": {
      "text/plain": [
       "array(['CO', 'MN', 'OH', 'CT', 'NY', 'OR', 'GA', 'NJ', 'NH', 'TX', 'MD',\n",
       "       'CA', 'NV', 'MO', 'FL', 'AL', 'AZ', 'LA', 'IL', 'KS', 'MI', 'WI',\n",
       "       'IN', 'NE', 'UT', nan, 'DC', 'VT', 'MA', 'PA', 'NC', 'MT', 'SC',\n",
       "       'WY', 'VA', 'PR', 'TN', 'IA', 'KY', 'WV', 'MS', 'WA', 'ME', 'RI',\n",
       "       'DE', 'AR', 'SD', 'NM', 'OK', 'ND', 'GU', 'ID', 'PW', 'AK', 'AP',\n",
       "       'AE', 'HI', 'FORT BEND'], dtype=object)"
      ]
     },
     "execution_count": 229,
     "metadata": {},
     "output_type": "execute_result"
    }
   ],
   "source": [
    "count_data.State_provider.unique()"
   ]
  },
  {
   "cell_type": "code",
   "execution_count": 230,
   "metadata": {},
   "outputs": [],
   "source": [
    "#count_data.loc[count_data['State_provider'] == 'SELECT REGION']\n"
   ]
  },
  {
   "cell_type": "code",
   "execution_count": 231,
   "metadata": {},
   "outputs": [
    {
     "data": {
      "text/html": [
       "<div>\n",
       "<table border=\"1\" class=\"dataframe\">\n",
       "  <thead>\n",
       "    <tr style=\"text-align: right;\">\n",
       "      <th></th>\n",
       "      <th>State_provider</th>\n",
       "      <th>State_receiver</th>\n",
       "    </tr>\n",
       "  </thead>\n",
       "  <tbody>\n",
       "    <tr>\n",
       "      <th>0</th>\n",
       "      <td>CO</td>\n",
       "      <td>CO</td>\n",
       "    </tr>\n",
       "    <tr>\n",
       "      <th>1</th>\n",
       "      <td>CO</td>\n",
       "      <td>CO</td>\n",
       "    </tr>\n",
       "    <tr>\n",
       "      <th>2</th>\n",
       "      <td>CO</td>\n",
       "      <td>CO</td>\n",
       "    </tr>\n",
       "    <tr>\n",
       "      <th>3</th>\n",
       "      <td>CO</td>\n",
       "      <td>CO</td>\n",
       "    </tr>\n",
       "    <tr>\n",
       "      <th>4</th>\n",
       "      <td>CO</td>\n",
       "      <td>CO</td>\n",
       "    </tr>\n",
       "  </tbody>\n",
       "</table>\n",
       "</div>"
      ],
      "text/plain": [
       "  State_provider State_receiver\n",
       "0             CO             CO\n",
       "1             CO             CO\n",
       "2             CO             CO\n",
       "3             CO             CO\n",
       "4             CO             CO"
      ]
     },
     "execution_count": 231,
     "metadata": {},
     "output_type": "execute_result"
    }
   ],
   "source": [
    "count_data.head()"
   ]
  },
  {
   "cell_type": "code",
   "execution_count": 232,
   "metadata": {},
   "outputs": [
    {
     "data": {
      "text/html": [
       "<div>\n",
       "<table border=\"1\" class=\"dataframe\">\n",
       "  <thead>\n",
       "    <tr style=\"text-align: right;\">\n",
       "      <th></th>\n",
       "      <th>State_provider</th>\n",
       "    </tr>\n",
       "    <tr>\n",
       "      <th>State_receiver</th>\n",
       "      <th></th>\n",
       "    </tr>\n",
       "  </thead>\n",
       "  <tbody>\n",
       "    <tr>\n",
       "      <th>NY</th>\n",
       "      <td>2493</td>\n",
       "    </tr>\n",
       "    <tr>\n",
       "      <th>CA</th>\n",
       "      <td>2329</td>\n",
       "    </tr>\n",
       "    <tr>\n",
       "      <th>MD</th>\n",
       "      <td>2242</td>\n",
       "    </tr>\n",
       "    <tr>\n",
       "      <th>FL</th>\n",
       "      <td>2185</td>\n",
       "    </tr>\n",
       "    <tr>\n",
       "      <th>NC</th>\n",
       "      <td>1681</td>\n",
       "    </tr>\n",
       "  </tbody>\n",
       "</table>\n",
       "</div>"
      ],
      "text/plain": [
       "                State_provider\n",
       "State_receiver                \n",
       "NY                        2493\n",
       "CA                        2329\n",
       "MD                        2242\n",
       "FL                        2185\n",
       "NC                        1681"
      ]
     },
     "execution_count": 232,
     "metadata": {},
     "output_type": "execute_result"
    }
   ],
   "source": [
    "group_data_receiver = count_data.groupby(['State_receiver']).count().sort_values('State_provider',ascending = False)\n",
    "group_data_receiver.head()"
   ]
  },
  {
   "cell_type": "code",
   "execution_count": 233,
   "metadata": {
    "collapsed": true
   },
   "outputs": [],
   "source": [
    "group_data_receiver = group_data_receiver.reset_index()\n"
   ]
  },
  {
   "cell_type": "code",
   "execution_count": 234,
   "metadata": {},
   "outputs": [
    {
     "data": {
      "text/html": [
       "<div>\n",
       "<table border=\"1\" class=\"dataframe\">\n",
       "  <thead>\n",
       "    <tr style=\"text-align: right;\">\n",
       "      <th></th>\n",
       "      <th>State_receiver</th>\n",
       "      <th>State_provider</th>\n",
       "    </tr>\n",
       "  </thead>\n",
       "  <tbody>\n",
       "    <tr>\n",
       "      <th>0</th>\n",
       "      <td>NY</td>\n",
       "      <td>2493</td>\n",
       "    </tr>\n",
       "    <tr>\n",
       "      <th>1</th>\n",
       "      <td>CA</td>\n",
       "      <td>2329</td>\n",
       "    </tr>\n",
       "    <tr>\n",
       "      <th>2</th>\n",
       "      <td>MD</td>\n",
       "      <td>2242</td>\n",
       "    </tr>\n",
       "    <tr>\n",
       "      <th>3</th>\n",
       "      <td>FL</td>\n",
       "      <td>2185</td>\n",
       "    </tr>\n",
       "    <tr>\n",
       "      <th>4</th>\n",
       "      <td>NC</td>\n",
       "      <td>1681</td>\n",
       "    </tr>\n",
       "  </tbody>\n",
       "</table>\n",
       "</div>"
      ],
      "text/plain": [
       "  State_receiver  State_provider\n",
       "0             NY            2493\n",
       "1             CA            2329\n",
       "2             MD            2242\n",
       "3             FL            2185\n",
       "4             NC            1681"
      ]
     },
     "execution_count": 234,
     "metadata": {},
     "output_type": "execute_result"
    }
   ],
   "source": [
    "group_data_receiver.head()"
   ]
  },
  {
   "cell_type": "code",
   "execution_count": 235,
   "metadata": {},
   "outputs": [
    {
     "data": {
      "text/html": [
       "<div>\n",
       "<table border=\"1\" class=\"dataframe\">\n",
       "  <thead>\n",
       "    <tr style=\"text-align: right;\">\n",
       "      <th></th>\n",
       "      <th>region</th>\n",
       "      <th>receiver_count</th>\n",
       "    </tr>\n",
       "  </thead>\n",
       "  <tbody>\n",
       "    <tr>\n",
       "      <th>0</th>\n",
       "      <td>NY</td>\n",
       "      <td>2493</td>\n",
       "    </tr>\n",
       "    <tr>\n",
       "      <th>1</th>\n",
       "      <td>CA</td>\n",
       "      <td>2329</td>\n",
       "    </tr>\n",
       "    <tr>\n",
       "      <th>2</th>\n",
       "      <td>MD</td>\n",
       "      <td>2242</td>\n",
       "    </tr>\n",
       "    <tr>\n",
       "      <th>3</th>\n",
       "      <td>FL</td>\n",
       "      <td>2185</td>\n",
       "    </tr>\n",
       "    <tr>\n",
       "      <th>4</th>\n",
       "      <td>NC</td>\n",
       "      <td>1681</td>\n",
       "    </tr>\n",
       "  </tbody>\n",
       "</table>\n",
       "</div>"
      ],
      "text/plain": [
       "  region  receiver_count\n",
       "0     NY            2493\n",
       "1     CA            2329\n",
       "2     MD            2242\n",
       "3     FL            2185\n",
       "4     NC            1681"
      ]
     },
     "execution_count": 235,
     "metadata": {},
     "output_type": "execute_result"
    }
   ],
   "source": [
    "group_data_receiver = group_data_receiver.rename(columns = {'State_receiver':'region', 'State_provider': 'receiver_count'})\n",
    "group_data_receiver.head()"
   ]
  },
  {
   "cell_type": "code",
   "execution_count": 236,
   "metadata": {},
   "outputs": [],
   "source": [
    "group_data_provider = count_data.groupby(['State_provider']).count().sort_values('State_receiver',ascending = False)\n"
   ]
  },
  {
   "cell_type": "code",
   "execution_count": 259,
   "metadata": {},
   "outputs": [
    {
     "data": {
      "text/html": [
       "<div>\n",
       "<table border=\"1\" class=\"dataframe\">\n",
       "  <thead>\n",
       "    <tr style=\"text-align: right;\">\n",
       "      <th></th>\n",
       "      <th>index</th>\n",
       "      <th>region</th>\n",
       "      <th>provider_count</th>\n",
       "    </tr>\n",
       "  </thead>\n",
       "  <tbody>\n",
       "    <tr>\n",
       "      <th>0</th>\n",
       "      <td>0</td>\n",
       "      <td>NY</td>\n",
       "      <td>2454</td>\n",
       "    </tr>\n",
       "    <tr>\n",
       "      <th>1</th>\n",
       "      <td>1</td>\n",
       "      <td>CA</td>\n",
       "      <td>2327</td>\n",
       "    </tr>\n",
       "    <tr>\n",
       "      <th>2</th>\n",
       "      <td>2</td>\n",
       "      <td>FL</td>\n",
       "      <td>2183</td>\n",
       "    </tr>\n",
       "    <tr>\n",
       "      <th>3</th>\n",
       "      <td>3</td>\n",
       "      <td>MD</td>\n",
       "      <td>2119</td>\n",
       "    </tr>\n",
       "    <tr>\n",
       "      <th>4</th>\n",
       "      <td>4</td>\n",
       "      <td>NC</td>\n",
       "      <td>1671</td>\n",
       "    </tr>\n",
       "  </tbody>\n",
       "</table>\n",
       "</div>"
      ],
      "text/plain": [
       "   index region  provider_count\n",
       "0      0     NY            2454\n",
       "1      1     CA            2327\n",
       "2      2     FL            2183\n",
       "3      3     MD            2119\n",
       "4      4     NC            1671"
      ]
     },
     "execution_count": 259,
     "metadata": {},
     "output_type": "execute_result"
    }
   ],
   "source": [
    "group_data_provider = group_data_provider.reset_index()\n",
    "group_data_provider.head()"
   ]
  },
  {
   "cell_type": "code",
   "execution_count": 260,
   "metadata": {},
   "outputs": [
    {
     "data": {
      "text/html": [
       "<div>\n",
       "<table border=\"1\" class=\"dataframe\">\n",
       "  <thead>\n",
       "    <tr style=\"text-align: right;\">\n",
       "      <th></th>\n",
       "      <th>index</th>\n",
       "      <th>region</th>\n",
       "      <th>provider_count</th>\n",
       "    </tr>\n",
       "  </thead>\n",
       "  <tbody>\n",
       "    <tr>\n",
       "      <th>0</th>\n",
       "      <td>0</td>\n",
       "      <td>NY</td>\n",
       "      <td>2454</td>\n",
       "    </tr>\n",
       "    <tr>\n",
       "      <th>1</th>\n",
       "      <td>1</td>\n",
       "      <td>CA</td>\n",
       "      <td>2327</td>\n",
       "    </tr>\n",
       "    <tr>\n",
       "      <th>2</th>\n",
       "      <td>2</td>\n",
       "      <td>FL</td>\n",
       "      <td>2183</td>\n",
       "    </tr>\n",
       "    <tr>\n",
       "      <th>3</th>\n",
       "      <td>3</td>\n",
       "      <td>MD</td>\n",
       "      <td>2119</td>\n",
       "    </tr>\n",
       "    <tr>\n",
       "      <th>4</th>\n",
       "      <td>4</td>\n",
       "      <td>NC</td>\n",
       "      <td>1671</td>\n",
       "    </tr>\n",
       "  </tbody>\n",
       "</table>\n",
       "</div>"
      ],
      "text/plain": [
       "   index region  provider_count\n",
       "0      0     NY            2454\n",
       "1      1     CA            2327\n",
       "2      2     FL            2183\n",
       "3      3     MD            2119\n",
       "4      4     NC            1671"
      ]
     },
     "execution_count": 260,
     "metadata": {},
     "output_type": "execute_result"
    }
   ],
   "source": [
    "group_data_provider = group_data_provider.rename(columns = {'State_provider':'region', 'State_receiver': 'provider_count'})\n",
    "group_data_provider.head()"
   ]
  },
  {
   "cell_type": "code",
   "execution_count": 261,
   "metadata": {},
   "outputs": [
    {
     "data": {
      "text/html": [
       "<div>\n",
       "<table border=\"1\" class=\"dataframe\">\n",
       "  <thead>\n",
       "    <tr style=\"text-align: right;\">\n",
       "      <th></th>\n",
       "      <th>region</th>\n",
       "      <th>receiver_count</th>\n",
       "      <th>index</th>\n",
       "      <th>provider_count</th>\n",
       "    </tr>\n",
       "  </thead>\n",
       "  <tbody>\n",
       "    <tr>\n",
       "      <th>0</th>\n",
       "      <td>NY</td>\n",
       "      <td>2493</td>\n",
       "      <td>0</td>\n",
       "      <td>2454</td>\n",
       "    </tr>\n",
       "    <tr>\n",
       "      <th>1</th>\n",
       "      <td>CA</td>\n",
       "      <td>2329</td>\n",
       "      <td>1</td>\n",
       "      <td>2327</td>\n",
       "    </tr>\n",
       "    <tr>\n",
       "      <th>2</th>\n",
       "      <td>MD</td>\n",
       "      <td>2242</td>\n",
       "      <td>3</td>\n",
       "      <td>2119</td>\n",
       "    </tr>\n",
       "    <tr>\n",
       "      <th>3</th>\n",
       "      <td>FL</td>\n",
       "      <td>2185</td>\n",
       "      <td>2</td>\n",
       "      <td>2183</td>\n",
       "    </tr>\n",
       "    <tr>\n",
       "      <th>4</th>\n",
       "      <td>NC</td>\n",
       "      <td>1681</td>\n",
       "      <td>4</td>\n",
       "      <td>1671</td>\n",
       "    </tr>\n",
       "  </tbody>\n",
       "</table>\n",
       "</div>"
      ],
      "text/plain": [
       "  region  receiver_count  index  provider_count\n",
       "0     NY            2493      0            2454\n",
       "1     CA            2329      1            2327\n",
       "2     MD            2242      3            2119\n",
       "3     FL            2185      2            2183\n",
       "4     NC            1681      4            1671"
      ]
     },
     "execution_count": 261,
     "metadata": {},
     "output_type": "execute_result"
    }
   ],
   "source": [
    "#Count receiver and provider group by state \n",
    "group_state = group_data_receiver.merge(group_data_provider)\n",
    "group_state.head()"
   ]
  },
  {
   "cell_type": "code",
   "execution_count": 240,
   "metadata": {},
   "outputs": [],
   "source": [
    "group_state_US = group_state"
   ]
  },
  {
   "cell_type": "code",
   "execution_count": 241,
   "metadata": {},
   "outputs": [],
   "source": [
    "# Change name for plotting on map\n",
    "us_state_abbrev = {\n",
    "    'Alabama': 'AL',\n",
    "    'Alaska': 'AK',\n",
    "    'Arizona': 'AZ',\n",
    "    'Arkansas': 'AR',\n",
    "    'California': 'CA',\n",
    "    'Colorado': 'CO',\n",
    "    'Connecticut': 'CT',\n",
    "    'Delaware': 'DE',\n",
    "    'Florida': 'FL',\n",
    "    'Georgia': 'GA',\n",
    "    'Hawaii': 'HI',\n",
    "    'Idaho': 'ID',\n",
    "    'Illinois': 'IL',\n",
    "    'Indiana': 'IN',\n",
    "    'Iowa': 'IA',\n",
    "    'Kansas': 'KS',\n",
    "    'Kentucky': 'KY',\n",
    "    'Louisiana': 'LA',\n",
    "    'Maine': 'ME',\n",
    "    'Maryland': 'MD',\n",
    "    'Massachusetts': 'MA',\n",
    "    'Michigan': 'MI',\n",
    "    'Minnesota': 'MN',\n",
    "    'Mississippi': 'MS',\n",
    "    'Missouri': 'MO',\n",
    "    'Montana': 'MT',\n",
    "    'Nebraska': 'NE',\n",
    "    'Nevada': 'NV',\n",
    "    'New Hampshire': 'NH',\n",
    "    'New Jersey': 'NJ',\n",
    "    'New Mexico': 'NM',\n",
    "    'New York': 'NY',\n",
    "    'North Carolina': 'NC',\n",
    "    'North Dakota': 'ND',\n",
    "    'Ohio': 'OH',\n",
    "    'Oklahoma': 'OK',\n",
    "    'Oregon': 'OR',\n",
    "    'Pennsylvania': 'PA',\n",
    "    'Rhode Island': 'RI',\n",
    "    'South Carolina': 'SC',\n",
    "    'South Dakota': 'SD',\n",
    "    'Tennessee': 'TN',\n",
    "    'Texas': 'TX',\n",
    "    'Utah': 'UT',\n",
    "    'Vermont': 'VT',\n",
    "    'Virginia': 'VA',\n",
    "    'Washington': 'WA',\n",
    "    'West Virginia': 'WV',\n",
    "    'Wisconsin': 'WI',\n",
    "    'Wyoming': 'WY',\n",
    "}\n",
    "us_state = {v: k.lower() for k, v in us_state_abbrev.items()}\n",
    "Us_state = {v: k for k, v in us_state_abbrev.items()}\n"
   ]
  },
  {
   "cell_type": "code",
   "execution_count": 242,
   "metadata": {},
   "outputs": [],
   "source": [
    "group_state_US = group_state_US.replace(us_state)\n",
    "group_state_US.head()\n",
    "pd.DataFrame.to_csv(group_state_US,'/Users/mueric35/Desktop/Margolis_Center/region_count.csv')"
   ]
  },
  {
   "cell_type": "code",
   "execution_count": 262,
   "metadata": {},
   "outputs": [
    {
     "data": {
      "text/html": [
       "<div>\n",
       "<table border=\"1\" class=\"dataframe\">\n",
       "  <thead>\n",
       "    <tr style=\"text-align: right;\">\n",
       "      <th></th>\n",
       "      <th>region</th>\n",
       "      <th>receiver_count</th>\n",
       "      <th>provider_count</th>\n",
       "    </tr>\n",
       "  </thead>\n",
       "  <tbody>\n",
       "    <tr>\n",
       "      <th>0</th>\n",
       "      <td>new york</td>\n",
       "      <td>2493</td>\n",
       "      <td>2454</td>\n",
       "    </tr>\n",
       "    <tr>\n",
       "      <th>1</th>\n",
       "      <td>california</td>\n",
       "      <td>2329</td>\n",
       "      <td>2327</td>\n",
       "    </tr>\n",
       "    <tr>\n",
       "      <th>2</th>\n",
       "      <td>maryland</td>\n",
       "      <td>2242</td>\n",
       "      <td>2119</td>\n",
       "    </tr>\n",
       "    <tr>\n",
       "      <th>3</th>\n",
       "      <td>florida</td>\n",
       "      <td>2185</td>\n",
       "      <td>2183</td>\n",
       "    </tr>\n",
       "    <tr>\n",
       "      <th>4</th>\n",
       "      <td>north carolina</td>\n",
       "      <td>1681</td>\n",
       "      <td>1671</td>\n",
       "    </tr>\n",
       "  </tbody>\n",
       "</table>\n",
       "</div>"
      ],
      "text/plain": [
       "           region  receiver_count  provider_count\n",
       "0        new york            2493            2454\n",
       "1      california            2329            2327\n",
       "2        maryland            2242            2119\n",
       "3         florida            2185            2183\n",
       "4  north carolina            1681            1671"
      ]
     },
     "execution_count": 262,
     "metadata": {},
     "output_type": "execute_result"
    }
   ],
   "source": [
    "group_state_US.head()"
   ]
  },
  {
   "cell_type": "code",
   "execution_count": 244,
   "metadata": {},
   "outputs": [],
   "source": [
    "#group_state_US_upper = group_state_US.replace(Us_state)\n",
    "#pd.DataFrame.to_csv(group_state_US_upper,'/Users/mueric35/Desktop/Margolis_Center/region_count_upper.csv')"
   ]
  },
  {
   "cell_type": "code",
   "execution_count": 245,
   "metadata": {},
   "outputs": [],
   "source": [
    "#group_state_US_upper.head()"
   ]
  },
  {
   "cell_type": "markdown",
   "metadata": {},
   "source": [
    "## Map"
   ]
  },
  {
   "cell_type": "code",
   "execution_count": 246,
   "metadata": {},
   "outputs": [
    {
     "name": "stdout",
     "output_type": "stream",
     "text": [
      "The rpy2.ipython extension is already loaded. To reload it, use:\n",
      "  %reload_ext rpy2.ipython\n"
     ]
    }
   ],
   "source": [
    "import rpy2\n",
    "%load_ext rpy2.ipython\n",
    "rpy2.robjects.packages.importr('ggmap')\n",
    "rpy2.robjects.packages.importr('maps')\n",
    "rpy2.robjects.packages.importr('tidyr')\n",
    "rpy2.robjects.packages.importr('DT')\n",
    "rpy2.robjects.packages.importr('ggplot2')\n",
    "\n",
    "%R all_states <- map_data(\"state\")\n",
    "%R -o all_states\n"
   ]
  },
  {
   "cell_type": "code",
   "execution_count": 247,
   "metadata": {},
   "outputs": [],
   "source": [
    "map_data = group_state_US.merge(all_states)\n",
    "pd.DataFrame.to_csv(map_data,'/Users/mueric35/Desktop/Margolis_Center/Provide_map.csv')"
   ]
  },
  {
   "cell_type": "code",
   "execution_count": 248,
   "metadata": {},
   "outputs": [
    {
     "name": "stdout",
     "output_type": "stream",
     "text": [
      "The rpy2.ipython extension is already loaded. To reload it, use:\n",
      "  %reload_ext rpy2.ipython\n"
     ]
    }
   ],
   "source": [
    "%load_ext rpy2.ipython\n"
   ]
  },
  {
   "cell_type": "code",
   "execution_count": 249,
   "metadata": {},
   "outputs": [],
   "source": [
    "from ggplot import *"
   ]
  },
  {
   "cell_type": "code",
   "execution_count": 251,
   "metadata": {},
   "outputs": [
    {
     "data": {
      "image/png": "[encoded data removed]"
     },
     "metadata": {},
     "output_type": "display_data"
    }
   ],
   "source": [
    "%%R -i map_data\n",
    "library('ggplot2')\n",
    "library('maps')\n",
    "states <- data.frame(state.center, state.abb)\n",
    "\n",
    "\n",
    "ggplot(aes(x=long, y=lat, group = group), data = map_data) + \n",
    "scale_fill_continuous(high = \"skyblue\", low = \"white\", guide=\"colorbar\" ) + \n",
    "geom_polygon(aes(fill = receiver_count),colour=\"white\") + \n",
    "scale_y_continuous(breaks=c()) + \n",
    "scale_x_continuous(breaks=c()) + \n",
    "geom_text(data = states, aes(x = x, y = y, label = state.abb, group = NULL), size = 2) + \n",
    "labs(title=\"Receiver by State\") + \n",
    "theme(plot.title = element_text(hjust = 0.5))"
   ]
  },
  {
   "cell_type": "code",
   "execution_count": 265,
   "metadata": {},
   "outputs": [
    {
     "data": {
      "image/png": "[encoded data removed]"
     },
     "metadata": {},
     "output_type": "display_data"
    }
   ],
   "source": [
    "%%R -i map_data\n",
    "library('ggplot2')\n",
    "library('maps')\n",
    "states <- data.frame(state.center, state.abb)\n",
    "\n",
    "\n",
    "ggplot(aes(x=long, y=lat, group = group), data = map_data) + \n",
    "scale_fill_continuous(low = \"white\", high = \"orange\", guide=\"colorbar\" ) + \n",
    "geom_polygon(aes(fill = provider_count),colour=\"white\") + \n",
    "scale_y_continuous(breaks=c()) + \n",
    "scale_x_continuous(breaks=c()) + \n",
    "geom_text(data = states, aes(x = x, y = y, label = state.abb, group = NULL), size = 2) + \n",
    "labs(title=\"Referer by State\") + \n",
    "theme(plot.title = element_text(hjust = 0.5))"
   ]
  },
  {
   "cell_type": "markdown",
   "metadata": {},
   "source": [
    "## State to State"
   ]
  },
  {
   "cell_type": "code",
   "execution_count": 253,
   "metadata": {},
   "outputs": [],
   "source": [
    "state_edge = full_data[['State_provider','State_receiver']]\n"
   ]
  },
  {
   "cell_type": "code",
   "execution_count": 254,
   "metadata": {},
   "outputs": [],
   "source": [
    "#select state name\n",
    "state_name = list(group_state['region'])[:50]"
   ]
  },
  {
   "cell_type": "code",
   "execution_count": 255,
   "metadata": {},
   "outputs": [
    {
     "data": {
      "text/html": [
       "<div>\n",
       "<table border=\"1\" class=\"dataframe\">\n",
       "  <thead>\n",
       "    <tr style=\"text-align: right;\">\n",
       "      <th></th>\n",
       "      <th>State_provider</th>\n",
       "      <th>State_receiver</th>\n",
       "      <th>counts</th>\n",
       "    </tr>\n",
       "  </thead>\n",
       "  <tbody>\n",
       "    <tr>\n",
       "      <th>0</th>\n",
       "      <td>AE</td>\n",
       "      <td>CA</td>\n",
       "      <td>1</td>\n",
       "    </tr>\n",
       "    <tr>\n",
       "      <th>1</th>\n",
       "      <td>AK</td>\n",
       "      <td>AK</td>\n",
       "      <td>14</td>\n",
       "    </tr>\n",
       "    <tr>\n",
       "      <th>2</th>\n",
       "      <td>AK</td>\n",
       "      <td>MD</td>\n",
       "      <td>1</td>\n",
       "    </tr>\n",
       "  </tbody>\n",
       "</table>\n",
       "</div>"
      ],
      "text/plain": [
       "  State_provider State_receiver  counts\n",
       "0             AE             CA       1\n",
       "1             AK             AK      14\n",
       "2             AK             MD       1"
      ]
     },
     "execution_count": 255,
     "metadata": {},
     "output_type": "execute_result"
    }
   ],
   "source": [
    "state_to_state = pd.DataFrame(state_edge.groupby(['State_provider','State_receiver']).size().rename('counts'))\n",
    "st_to_st_df = state_to_state.reset_index()\n",
    "st_to_st_df.head(3)"
   ]
  },
  {
   "cell_type": "code",
   "execution_count": 256,
   "metadata": {},
   "outputs": [],
   "source": [
    "st_st_us = st_to_st_df[st_to_st_df['State_provider'].isin(state_name) & st_to_st_df['State_receiver'].isin(state_name)]\n"
   ]
  },
  {
   "cell_type": "code",
   "execution_count": 257,
   "metadata": {},
   "outputs": [],
   "source": [
    "st_st_group = st_st_us.groupby(['State_provider','State_receiver']).sum()"
   ]
  },
  {
   "cell_type": "code",
   "execution_count": 263,
   "metadata": {
    "scrolled": false
   },
   "outputs": [],
   "source": [
    "g = st_st_group.groupby(level=0, group_keys=False)\n",
    "st_st_group = g.apply(lambda x: x.sort_values('counts',ascending=False))\n"
   ]
  },
  {
   "cell_type": "code",
   "execution_count": 269,
   "metadata": {},
   "outputs": [
    {
     "data": {
      "text/html": [
       "<div>\n",
       "<table border=\"1\" class=\"dataframe\">\n",
       "  <thead>\n",
       "    <tr style=\"text-align: right;\">\n",
       "      <th></th>\n",
       "      <th></th>\n",
       "      <th>counts</th>\n",
       "    </tr>\n",
       "    <tr>\n",
       "      <th>State_provider</th>\n",
       "      <th>State_receiver</th>\n",
       "      <th></th>\n",
       "    </tr>\n",
       "  </thead>\n",
       "  <tbody>\n",
       "    <tr>\n",
       "      <th rowspan=\"4\" valign=\"top\">AK</th>\n",
       "      <th>AK</th>\n",
       "      <td>14</td>\n",
       "    </tr>\n",
       "    <tr>\n",
       "      <th>NH</th>\n",
       "      <td>4</td>\n",
       "    </tr>\n",
       "    <tr>\n",
       "      <th>MD</th>\n",
       "      <td>1</td>\n",
       "    </tr>\n",
       "    <tr>\n",
       "      <th>MI</th>\n",
       "      <td>1</td>\n",
       "    </tr>\n",
       "    <tr>\n",
       "      <th>AL</th>\n",
       "      <th>AL</th>\n",
       "      <td>63</td>\n",
       "    </tr>\n",
       "  </tbody>\n",
       "</table>\n",
       "</div>"
      ],
      "text/plain": [
       "                               counts\n",
       "State_provider State_receiver        \n",
       "AK             AK                  14\n",
       "               NH                   4\n",
       "               MD                   1\n",
       "               MI                   1\n",
       "AL             AL                  63"
      ]
     },
     "execution_count": 269,
     "metadata": {},
     "output_type": "execute_result"
    }
   ],
   "source": [
    "st_st_group.head()"
   ]
  },
  {
   "cell_type": "code",
   "execution_count": null,
   "metadata": {
    "collapsed": true
   },
   "outputs": [],
   "source": []
  }
 ],
 "metadata": {
  "kernelspec": {
   "display_name": "Python 3",
   "language": "python",
   "name": "python3"
  },
  "language_info": {
   "codemirror_mode": {
    "name": "ipython",
    "version": 3
   },
   "file_extension": ".py",
   "mimetype": "text/x-python",
   "name": "python",
   "nbconvert_exporter": "python",
   "pygments_lexer": "ipython3",
   "version": "3.6.1"
  }
 },
 "nbformat": 4,
 "nbformat_minor": 1
}
